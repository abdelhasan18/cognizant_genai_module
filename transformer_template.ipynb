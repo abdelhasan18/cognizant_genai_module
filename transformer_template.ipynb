{
 "cells": [
  {
   "cell_type": "markdown",
   "id": "1c7d2897",
   "metadata": {},
   "source": [
    "# Transformer Text Generation\n",
    "\n",
    "In this notebook, we will explore how transformer models (like GPT-2) can generate text based on a given prompt. We will experiment with generating text by adjusting parameters like temperature and sequence length.\n",
    "\n",
    "## Instructions\n",
    "1. Change the prompt below to experiment with different types of text generation.\n",
    "2. Adjust the `max_length` and `temperature` parameters to see how they affect the output.\n",
    "3. Generate at least 3 samples with different prompts and compare the results.\n"
   ]
  },
  {
   "cell_type": "code",
   "execution_count": null,
   "id": "6dbce095",
   "metadata": {
    "scrolled": true
   },
   "outputs": [],
   "source": [
    "from transformers import pipeline\n",
    "\n",
    "# Load GPT-2 text generation model\n",
    "generator = pipeline('text-generation', model='gpt2')\n",
    "\n",
    "# Set your prompt\n",
    "prompt = 'Alfred had no prior knowledge of baking until'\n",
    "\n",
    "# Generate text\n",
    "result = generator(prompt, max_length=100, temperature=2.0)\n",
    "print(result[0]['generated_text'])"
   ]
  },
  {
   "cell_type": "code",
   "execution_count": null,
   "id": "c69a033d",
   "metadata": {},
   "outputs": [],
   "source": [
    "# Experiment with different prompts\n",
    "prompt = 'The impact of AI on the future of work'\n",
    "result = generator(prompt, max_length=50, temperature=0.8)\n",
    "print(result[0]['generated_text'])\n",
    "\n",
    "prompt = 'Once upon a time, there was a kingdom'\n",
    "result = generator(prompt, max_length=100, temperature=0.6)\n",
    "print(result[0]['generated_text'])"
   ]
  },
  {
   "cell_type": "markdown",
   "id": "e709c21c-fd12-4cee-ae55-af146b14715d",
   "metadata": {},
   "source": [
    "## PROMPT: 'In the future, education will'\n",
    "-- Length: 100, Temp: 0.1 --\n",
    "In the future, education will be a major focus of the government's efforts to improve the quality of life for the children of the country.\n",
    "\n",
    "\"We are committed to ensuring that every child has the opportunity to succeed in school and to be able to go to university,\" said the minister.\n",
    "\n",
    "\"We are also committed to ensuring that every child has the opportunity to go to university and to be able to go to university.\n",
    "\n",
    "\"We are also committed to ensuring that every child has\n",
    "\n",
    "-- Length: 200, Temp: 0.5 --\n",
    "In the future, education will be a major priority for the state. In the past, the state has sought to establish a local school district, where students would be able to attend a local school district. However, in the past, the state has sought to establish a local school district, where students would be able to attend a local school district.\n",
    "\n",
    "State education funding will be made available to all students, regardless of their ability to attend a local school district.\n",
    "\n",
    "The state has also\n",
    "\n",
    "-- Length: 100, Temp: 0.7 --\n",
    "In the future, education will be seen as the most important tool of the state's economic future, and the country will become a center of innovation, with more and more people becoming more able to access it. It will be impossible to say exactly what will happen to education in the decades to come, but it will become the most important tool in the state's economic future, and the country will become a center of innovation, with more and more people becoming more able to access it.\n",
    "\n",
    "-- Length: 100, Temp: 1.0 --\n",
    "In the future, education will be much easier and easier- to teach, to develop, understand, share information, share knowledge. We will have the first online student resource for students and their families. In the future, education will be much easier and easier- to teach, to develop, understand, share information, share knowledge.\n",
    "\n",
    "The U.S. Education Department has created a dedicated website for educational organizations (which is called Students' Education and Policy), which describes the key technologies and resources\n",
    "\n",
    "-- Length: 100, Temp: 2.0 --\n",
    "In the future, education will help keep us on our toes on global issues\" if he \"removes these barriers\" or otherwise helps solve them at this fast speed at schools, Professor James Campbell notes,\"the issue becomes particularly complicated in Western schools across West Africa over the medium- and long-term if the government removes those barrier policies because children from African countries remain at risk. However,\" they continued,\"Mr Blair argues the issue is about education itself so \"we must also provide education services\" if"
   ]
  },
  {
   "cell_type": "markdown",
   "id": "e8a3b144-185a-44c8-b209-6d219ee180d5",
   "metadata": {},
   "source": [
    "## PROMPT: 'The american banking system has not'\n",
    "-- Length: 100, Temp: 0.1 --\n",
    "The american banking system has not been able to keep up with the growth of the global economy. The US has been able to maintain its position as the world's largest economy, but it is still struggling to maintain its position as the world's largest economy.\n",
    "\n",
    "The US has been able to maintain its position as the world's largest economy, but it is still struggling to maintain its position as the world's largest economy.\n",
    "\n",
    "The US has been able to maintain its position as the world\n",
    "\n",
    "-- Length: 200, Temp: 0.5 --\n",
    "The american banking system has not been in a position to protect the interests of its citizens, and has not been able to defend itself against the threat of terrorism,\" he wrote.\n",
    "\n",
    "The president said that \"the United States will continue to fight ISIS, but that we will not let the terrorists take over our country.\"\n",
    "\n",
    "\"We will not let the terrorists take over our country. We will not allow the terrorists to take over our country. We will not allow them to take over our\n",
    "\n",
    "-- Length: 100, Temp: 0.7 --\n",
    "The american banking system has not been around for several decades. In fact, in the 19th century it was the \"bank of the century\". Nowadays it is the \"bank of the century\".\n",
    "\n",
    "In fact, almost every bank has a central bank, a credit union, a savings and loan union, a bank guarantee (which the government keeps with it) and a state guarantee.\n",
    "\n",
    "Here are some details about how banks operate:\n",
    "\n",
    "A central bank is the central bank\n",
    "\n",
    "-- Length: 100, Temp: 1.0 --\n",
    "The american banking system has not been able to survive without its banking system,\" Fidler said. \"The banks need a stable of support to support them in doing these things.\"\n",
    "\n",
    "Banking has been unable to survive in a region that has seen significant levels of inflation, high unemployment, and income stagnation. Banks have also been unable to survive in the country during a wave of anti-government protests following the election victory of former President Viktor Yanukovich.\n",
    "\n",
    "The EU has had a\n",
    "\n",
    "-- Length: 100, Temp: 2.0 --\n",
    "The american banking system has not paid this kind interest that the Europeans who take ownership in my place take this property off our people,\" Paul says in a short address during the gathering, and the video he recently shared shows one example at the heart of how he made this decision by having Paul donate several pounds to their local church after their church gave him their money during 2008. In this exchange Paul offers Paul the following to show of gratitude, noting to many, Paul isn-\n",
    "\n",
    "\"'Well God"
   ]
  },
  {
   "cell_type": "markdown",
   "id": "0c6eb676-5f90-4d5f-b34f-b1d56e09970f",
   "metadata": {},
   "source": [
    "## PROMPT: 'Alfred had no prior knowledge of baking until'\n",
    "-- Length: 100, Temp: 0.1 --\n",
    "Alfred had no prior knowledge of baking until he was a teenager.\n",
    "\n",
    "\"I was a little bit of a kid, but I was a little bit of a baker,\" he said. \"I was a little bit of a baker, but I was a little bit of a baker.\"\n",
    "\n",
    "He said he was a little bit of a baker because he was a little bit of a baker.\n",
    "\n",
    "\"I was a little bit of a baker because I was a little bit of\n",
    "\n",
    "-- Length: 200, Temp: 0.5 --\n",
    "Alfred had no prior knowledge of baking until he learned about the procedure from a friend. He was surprised to learn that the procedure was actually a process that involved a small amount of baking.\n",
    "\n",
    "\"I was quite shocked,\" he said. \"I didn't know what was going on in there, but I had never baked before. I was very excited to try it out.\"\n",
    "\n",
    "The process involved a mixture of flour and baking powder. The dough was then placed in a large pot\n",
    "\n",
    "-- Length: 100, Temp: 0.7 --\n",
    "Alfred had no prior knowledge of baking until after he'd eaten his first baked potato.\n",
    "\n",
    "Baked Potatoes\n",
    "\n",
    "Many people suggest a different approach to baking potatoes. The first method involves turning the pot onto the stove, but the second method involves using a wooden spoon or cutting board. The first method involves turning the pot onto the stove, but the second method involves using a wooden spoon or cutting board.\n",
    "\n",
    "The difference is the pot gets hot while the potatoes are baked.\n",
    "\n",
    "-- Length: 100, Temp: 1.0 --\n",
    "Alfred had no prior knowledge of baking until he began the process, which allowed him a way to tell when the eggs were done and when he was about to put them back where they were. A simple tip to people who want to know the full story of how Alfred got started cooking. In fact, she says, when he first started baking, he used a blender to smooth out the butter, and with it was \"great.\" I bet most of you already know...\n",
    "How to use\n",
    "\n",
    "-- Length: 100, Temp: 2.0 --\n",
    "Alfred had no prior knowledge of baking until last December; at around then, he started the first year of construction without one word. From the bottom-most of this baking circle came recipes for dough (which would be baked and fried and tossed to make sandwiches at 4 1/4 c.) He didn't even notice when each month rolled his life had become slightly easier — it just ticked right before he opened those eyes. Now at home watching a movie on television like it has been for"
   ]
  },
  {
   "cell_type": "markdown",
   "id": "de0d0d32",
   "metadata": {},
   "source": [
    "## Reflection\n",
    "\n",
    "Now that you have experimented with text generation, write a brief report on your observations.\n",
    "\n",
    "1. What patterns did you notice in the generated text?\n",
    "2. How did changing the temperature affect the creativity and coherence of the text?\n",
    "3. What types of prompts yielded the most coherent results?\n",
    "4. What are the limitations of GPT-2 based on your experimentation?"
   ]
  }
 ],
 "metadata": {
  "kernelspec": {
   "display_name": "Python 3 (ipykernel)",
   "language": "python",
   "name": "python3"
  },
  "language_info": {
   "codemirror_mode": {
    "name": "ipython",
    "version": 3
   },
   "file_extension": ".py",
   "mimetype": "text/x-python",
   "name": "python",
   "nbconvert_exporter": "python",
   "pygments_lexer": "ipython3",
   "version": "3.13.2"
  }
 },
 "nbformat": 4,
 "nbformat_minor": 5
}
